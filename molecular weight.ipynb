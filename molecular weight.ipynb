{
 "cells": [
  {
   "cell_type": "markdown",
   "metadata": {},
   "source": [
    "# number average and weight average calculations \n",
    "for polymer weight distribution"
   ]
  },
  {
   "cell_type": "code",
   "execution_count": 1,
   "metadata": {},
   "outputs": [
    {
     "name": "stdout",
     "output_type": "stream",
     "text": [
      "number average molecular weight: 181818.2\n",
      "weight average molecular weight: 550000.0\n",
      "polydispersity index: 3.0\n",
      "degree of polymerization: 4329.0\n"
     ]
    }
   ],
   "source": [
    "import numpy as np\n",
    "import matplotlib.pyplot as plt\n",
    "\n",
    "amounts = np.array([5,5]) # grams of each\n",
    "molecular_weights = np.array([1e5,1e6])\n",
    "num_molecules =  amounts / molecular_weights\n",
    "\n",
    "mole_fractions = num_molecules / np.sum(num_molecules)\n",
    "number_average = np.sum(molecular_weights * mole_fractions)\n",
    "print(f'number average molecular weight: {number_average:.1f}')\n",
    "\n",
    "weight_fractions = amounts / np.sum(amounts)\n",
    "weight_average = np.sum(weight_fractions * molecular_weights) \n",
    "print(f'weight average molecular weight: {weight_average}')\n",
    "\n",
    "pdi = weight_average / number_average\n",
    "print(f'polydispersity index: {pdi:.1f}')\n",
    "\n",
    "degree_of_polymerization = number_average / 42\n",
    "print(f'degree of polymerization: {degree_of_polymerization:.1f}')\n"
   ]
  },
  {
   "cell_type": "markdown",
   "metadata": {},
   "source": [
    "$$\n",
    "    M_n = \\sum x_i \\times m_i\n",
    "$$\n",
    "\n",
    "$$\n",
    "    M_w = \\sum w_i \\times m_i\n",
    "$$"
   ]
  }
 ],
 "metadata": {
  "kernelspec": {
   "display_name": "base",
   "language": "python",
   "name": "python3"
  },
  "language_info": {
   "codemirror_mode": {
    "name": "ipython",
    "version": 3
   },
   "file_extension": ".py",
   "mimetype": "text/x-python",
   "name": "python",
   "nbconvert_exporter": "python",
   "pygments_lexer": "ipython3",
   "version": "3.11.5"
  }
 },
 "nbformat": 4,
 "nbformat_minor": 2
}
